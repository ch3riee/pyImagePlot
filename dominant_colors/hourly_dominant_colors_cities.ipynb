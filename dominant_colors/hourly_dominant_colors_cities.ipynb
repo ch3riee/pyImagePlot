{
 "cells": [
  {
   "cell_type": "code",
   "execution_count": 1,
   "metadata": {
    "collapsed": false
   },
   "outputs": [],
   "source": [
    "import os\n",
    "import cv2\n",
    "import csv\n",
    "from pylab import *\n",
    "import scipy\n",
    "import scipy.misc\n",
    "from scipy import stats\n",
    "from PIL import Image\n",
    "import collections\n",
    "import VizDomHSV as DomHSV\n",
    "%matplotlib inline"
   ]
  },
  {
   "cell_type": "code",
   "execution_count": 2,
   "metadata": {
    "collapsed": true
   },
   "outputs": [],
   "source": [
    "#in_file = \"/Users/myazdaniUCSD/Documents/twitter_data_grant/processedData/dom_HSV_repeated_sample_twitter.csv\"\n",
    "in_file = \"/Users/myazdaniUCSD/Documents/twitter-diurnal-analysis/data/dom_HSV_sample_SD_control.csv\"\n",
    "out_path = \"/Users/myazdaniUCSD/Desktop/city_colors/\""
   ]
  },
  {
   "cell_type": "code",
   "execution_count": 3,
   "metadata": {
    "collapsed": true
   },
   "outputs": [],
   "source": [
    "def return_rows(filename, file_encoding = 'rU'):\n",
    "  with open(filename, file_encoding) as f: \n",
    "    reader = csv.reader(f)\n",
    "    rowsInData = [row for row in reader]\n",
    "  return rowsInData  "
   ]
  },
  {
   "cell_type": "code",
   "execution_count": 4,
   "metadata": {
    "collapsed": false
   },
   "outputs": [
    {
     "data": {
      "text/plain": [
       "['image.path', 'data.type', 'hour', 'H.mode', 'S.mode', 'V.mode']"
      ]
     },
     "execution_count": 4,
     "metadata": {},
     "output_type": "execute_result"
    }
   ],
   "source": [
    "lines = return_rows(in_file)\n",
    "lines[0]"
   ]
  },
  {
   "cell_type": "code",
   "execution_count": 5,
   "metadata": {
    "collapsed": true
   },
   "outputs": [],
   "source": [
    "cities = list(set(line[1] for line in lines[1:]))"
   ]
  },
  {
   "cell_type": "code",
   "execution_count": 6,
   "metadata": {
    "collapsed": false
   },
   "outputs": [],
   "source": [
    "for city in cities:\n",
    "    city_hourly_HSV = [line for line in lines[1:] if line[1] == city]\n",
    "    bleh = [item.pop(1) for item in city_hourly_HSV]\n",
    "    DomHSV.create_hourly_colors(city_hourly_HSV, out_path + city + \".png\")"
   ]
  },
  {
   "cell_type": "code",
   "execution_count": 7,
   "metadata": {
    "collapsed": false
   },
   "outputs": [
    {
     "data": {
      "text/plain": [
       "['/data/myazdani/images_remainder/2013/2013-04-02/07/BG1C9edCIAAiZcb.jpg',\n",
       " '0',\n",
       " '15',\n",
       " '255',\n",
       " '255']"
      ]
     },
     "execution_count": 7,
     "metadata": {},
     "output_type": "execute_result"
    }
   ],
   "source": [
    "city_hourly_HSV[0]"
   ]
  },
  {
   "cell_type": "code",
   "execution_count": null,
   "metadata": {
    "collapsed": true
   },
   "outputs": [],
   "source": []
  }
 ],
 "metadata": {
  "kernelspec": {
   "display_name": "Python 2",
   "language": "python",
   "name": "python2"
  },
  "language_info": {
   "codemirror_mode": {
    "name": "ipython",
    "version": 2
   },
   "file_extension": ".py",
   "mimetype": "text/x-python",
   "name": "python",
   "nbconvert_exporter": "python",
   "pygments_lexer": "ipython2",
   "version": "2.7.10"
  }
 },
 "nbformat": 4,
 "nbformat_minor": 0
}
